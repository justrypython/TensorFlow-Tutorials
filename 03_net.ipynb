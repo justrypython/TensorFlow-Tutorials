{
 "cells": [
  {
   "cell_type": "code",
   "execution_count": 1,
   "metadata": {
    "collapsed": true
   },
   "outputs": [],
   "source": [
    "import tensorflow as tf\n",
    "import numpy as np\n",
    "from tensorflow.examples.tutorials.mnist import input_data"
   ]
  },
  {
   "cell_type": "code",
   "execution_count": 2,
   "metadata": {},
   "outputs": [
    {
     "name": "stdout",
     "output_type": "stream",
     "text": [
      "Extracting MNIST_data/train-images-idx3-ubyte.gz\n",
      "Extracting MNIST_data/train-labels-idx1-ubyte.gz\n",
      "Extracting MNIST_data/t10k-images-idx3-ubyte.gz\n",
      "Extracting MNIST_data/t10k-labels-idx1-ubyte.gz\n"
     ]
    }
   ],
   "source": [
    "def init_weights(shape):\n",
    "    return tf.Variable(tf.random_normal(shape, stddev=0.01))\n",
    "\n",
    "def model(X, w_h, w_o):\n",
    "    h = tf.nn.sigmoid(tf.matmul(X, w_h)) # this is a basic mlp, think 2 stacked logistic regressions\n",
    "    return tf.matmul(h, w_o) # note that we dont take the softmax at the end because our cost fn does that for us\n",
    "\n",
    "mnist = input_data.read_data_sets(\"MNIST_data/\", one_hot=True)\n",
    "trX, trY, teX, teY = mnist.train.images, mnist.train.labels, mnist.test.images, mnist.test.labels"
   ]
  },
  {
   "cell_type": "code",
   "execution_count": 3,
   "metadata": {},
   "outputs": [],
   "source": [
    "X = tf.placeholder(\"float\", [None, 784])\n",
    "Y = tf.placeholder(\"float\", [None, 10])\n",
    "\n",
    "w_h = init_weights([784, 625]) # create symbolic variables\n",
    "w_o = init_weights([625, 10])\n",
    "\n",
    "py_x = model(X, w_h, w_o)\n",
    "\n",
    "cost = tf.reduce_mean(tf.nn.softmax_cross_entropy_with_logits(logits=py_x, labels=Y)) # compute costs\n",
    "train_op = tf.train.GradientDescentOptimizer(0.05).minimize(cost) # construct an optimizer\n",
    "predict_op = tf.argmax(py_x, 1)"
   ]
  },
  {
   "cell_type": "code",
   "execution_count": 4,
   "metadata": {
    "collapsed": true
   },
   "outputs": [
    {
     "name": "stdout",
     "output_type": "stream",
     "text": [
      "0 0.6837\n",
      "1 0.8222\n",
      "2 0.861\n",
      "3 0.8801\n",
      "4 0.8881\n",
      "5 0.8937\n",
      "6 0.897\n",
      "7 0.9005\n",
      "8 0.9034\n",
      "9 0.905\n",
      "10 0.9078\n",
      "11 0.91\n",
      "12 0.912\n",
      "13 0.9127\n",
      "14 0.9142\n",
      "15 0.9151\n",
      "16 0.9153\n",
      "17 0.9161\n",
      "18 0.917\n",
      "19 0.918\n",
      "20 0.9183\n",
      "21 0.9189\n",
      "22 0.9193\n",
      "23 0.9195\n",
      "24 0.92\n",
      "25 0.9202\n",
      "26 0.9203\n",
      "27 0.9208\n",
      "28 0.9216\n",
      "29 0.9222\n",
      "30 0.9228\n",
      "31 0.923\n",
      "32 0.9233\n",
      "33 0.9235\n",
      "34 0.924\n",
      "35 0.925\n",
      "36 0.9256\n",
      "37 0.9259\n",
      "38 0.9261\n",
      "39 0.9265\n",
      "40 0.927\n",
      "41 0.9273\n",
      "42 0.928\n",
      "43 0.9286\n",
      "44 0.9293\n",
      "45 0.93\n",
      "46 0.9308\n",
      "47 0.9315\n",
      "48 0.9319\n",
      "49 0.9327\n",
      "50 0.9334\n",
      "51 0.9336\n",
      "52 0.9341\n",
      "53 0.9341\n",
      "54 0.9349\n",
      "55 0.9357\n",
      "56 0.9365\n",
      "57 0.937\n",
      "58 0.938\n",
      "59 0.9383\n",
      "60 0.9387\n",
      "61 0.9391\n",
      "62 0.9394\n",
      "63 0.94\n",
      "64 0.9407\n",
      "65 0.9415\n",
      "66 0.9418\n",
      "67 0.9423\n",
      "68 0.943\n",
      "69 0.9437\n",
      "70 0.9441\n",
      "71 0.944\n",
      "72 0.9444\n",
      "73 0.945\n",
      "74 0.9455\n",
      "75 0.9459\n",
      "76 0.9465\n",
      "77 0.9468\n",
      "78 0.9473\n",
      "79 0.9478\n",
      "80 0.9483\n",
      "81 0.9486\n",
      "82 0.9491\n",
      "83 0.9497\n",
      "84 0.9503\n",
      "85 0.9509\n",
      "86 0.9513\n",
      "87 0.9519\n",
      "88 0.9523\n",
      "89 0.9524\n",
      "90 0.9526\n",
      "91 0.9525\n",
      "92 0.9531\n",
      "93 0.9534\n",
      "94 0.9536\n",
      "95 0.9539\n",
      "96 0.9541\n",
      "97 0.9543\n",
      "98 0.9545\n",
      "99 0.9548\n"
     ]
    }
   ],
   "source": [
    "# Launch the graph in a session\n",
    "with tf.Session() as sess:\n",
    "    # you need to initialize all variables\n",
    "    tf.global_variables_initializer().run()\n",
    "\n",
    "    for i in range(100):\n",
    "        for start, end in zip(range(0, len(trX), 128), range(128, len(trX)+1, 128)):\n",
    "            sess.run(train_op, feed_dict={X: trX[start:end], Y: trY[start:end]})\n",
    "        print(i, np.mean(np.argmax(teY, axis=1) ==\n",
    "                         sess.run(predict_op, feed_dict={X: teX})))"
   ]
  },
  {
   "cell_type": "markdown",
   "metadata": {
    "collapsed": true
   },
   "source": [
    "### below is my code"
   ]
  },
  {
   "cell_type": "code",
   "execution_count": 5,
   "metadata": {
    "collapsed": true
   },
   "outputs": [],
   "source": [
    "a = tf.Variable([[1, 2], [3, 4]])"
   ]
  },
  {
   "cell_type": "code",
   "execution_count": 7,
   "metadata": {},
   "outputs": [],
   "source": [
    "b = tf.Variable([[2, 3], [4, 5]])"
   ]
  },
  {
   "cell_type": "code",
   "execution_count": 8,
   "metadata": {
    "collapsed": true
   },
   "outputs": [],
   "source": [
    "out = tf.matmul(a, b)"
   ]
  },
  {
   "cell_type": "code",
   "execution_count": 10,
   "metadata": {},
   "outputs": [
    {
     "name": "stdout",
     "output_type": "stream",
     "text": [
      "[[10 13]\n",
      " [22 29]]\n"
     ]
    }
   ],
   "source": [
    "with tf.Session() as sess:\n",
    "    tf.global_variables_initializer().run()\n",
    "    print (sess.run(out))"
   ]
  },
  {
   "cell_type": "code",
   "execution_count": 11,
   "metadata": {
    "collapsed": true
   },
   "outputs": [],
   "source": [
    "c = np.array([[1, 2], [3, 4]])"
   ]
  },
  {
   "cell_type": "code",
   "execution_count": 12,
   "metadata": {
    "collapsed": true
   },
   "outputs": [],
   "source": [
    "d = np.array([[2, 3], [4, 5]])"
   ]
  },
  {
   "cell_type": "code",
   "execution_count": 13,
   "metadata": {},
   "outputs": [
    {
     "data": {
      "text/plain": [
       "array([[10, 13],\n",
       "       [22, 29]])"
      ]
     },
     "execution_count": 13,
     "metadata": {},
     "output_type": "execute_result"
    }
   ],
   "source": [
    "c.dot(d)"
   ]
  },
  {
   "cell_type": "code",
   "execution_count": 14,
   "metadata": {},
   "outputs": [
    {
     "data": {
      "text/plain": [
       "array([[ 2,  6],\n",
       "       [12, 20]])"
      ]
     },
     "execution_count": 14,
     "metadata": {},
     "output_type": "execute_result"
    }
   ],
   "source": [
    "np.multiply(c, d)"
   ]
  },
  {
   "cell_type": "code",
   "execution_count": 15,
   "metadata": {},
   "outputs": [
    {
     "data": {
      "text/plain": [
       "array([[1, 2],\n",
       "       [3, 4]])"
      ]
     },
     "execution_count": 15,
     "metadata": {},
     "output_type": "execute_result"
    }
   ],
   "source": [
    "c"
   ]
  },
  {
   "cell_type": "code",
   "execution_count": 16,
   "metadata": {},
   "outputs": [
    {
     "data": {
      "text/plain": [
       "array([[2, 3],\n",
       "       [4, 5]])"
      ]
     },
     "execution_count": 16,
     "metadata": {},
     "output_type": "execute_result"
    }
   ],
   "source": [
    "d"
   ]
  },
  {
   "cell_type": "code",
   "execution_count": 18,
   "metadata": {
    "collapsed": true
   },
   "outputs": [],
   "source": [
    "import tensorflow as tf\n",
    "import numpy as np\n",
    "from tensorflow.examples.tutorials.mnist import input_data"
   ]
  },
  {
   "cell_type": "code",
   "execution_count": 19,
   "metadata": {
    "collapsed": true
   },
   "outputs": [],
   "source": [
    "def init_weight(shape):\n",
    "    return tf.Variable(tf.random_normal(shape, stddev=1.0))"
   ]
  },
  {
   "cell_type": "code",
   "execution_count": 20,
   "metadata": {
    "collapsed": true
   },
   "outputs": [],
   "source": [
    "def model(X, w_h, w_o):\n",
    "    h = tf.nn.sigmoid(tf.matmul(X, w_h))\n",
    "    return tf.matmul(h, w_o)"
   ]
  },
  {
   "cell_type": "code",
   "execution_count": 24,
   "metadata": {
    "collapsed": true
   },
   "outputs": [],
   "source": [
    "X = tf.placeholder('float', [None, 784])\n",
    "Y = tf.placeholder('float', [None, 10])"
   ]
  },
  {
   "cell_type": "code",
   "execution_count": 25,
   "metadata": {
    "collapsed": true
   },
   "outputs": [],
   "source": [
    "w_h = init_weight([784, 625])\n",
    "w_o = init_weight([625, 10])"
   ]
  },
  {
   "cell_type": "code",
   "execution_count": 26,
   "metadata": {},
   "outputs": [],
   "source": [
    "py_x = model(X, w_h, w_o)"
   ]
  },
  {
   "cell_type": "code",
   "execution_count": 27,
   "metadata": {
    "collapsed": true
   },
   "outputs": [],
   "source": [
    "cost = tf.reduce_mean(tf.nn.softmax_cross_entropy_with_logits(logits=py_x, labels=Y))"
   ]
  },
  {
   "cell_type": "code",
   "execution_count": 28,
   "metadata": {
    "collapsed": true
   },
   "outputs": [],
   "source": [
    "train_op = tf.train.GradientDescentOptimizer(0.05).minimize(cost)"
   ]
  },
  {
   "cell_type": "code",
   "execution_count": 29,
   "metadata": {
    "collapsed": true
   },
   "outputs": [],
   "source": [
    "predict_op = tf.argmax(py_x, 1)"
   ]
  },
  {
   "cell_type": "code",
   "execution_count": 30,
   "metadata": {},
   "outputs": [
    {
     "name": "stdout",
     "output_type": "stream",
     "text": [
      "Help on function arg_max in module tensorflow.python.ops.gen_math_ops:\n",
      "\n",
      "arg_max(input, dimension, name=None)\n",
      "    Returns the index with the largest value across dimensions of a tensor.\n",
      "    \n",
      "    Note that in case of ties the identity of the return value is not guaranteed.\n",
      "    \n",
      "    Args:\n",
      "      input: A `Tensor`. Must be one of the following types: `float32`, `float64`, `int64`, `int32`, `uint8`, `uint16`, `int16`, `int8`, `complex64`, `complex128`, `qint8`, `quint8`, `qint32`, `half`.\n",
      "      dimension: A `Tensor`. Must be one of the following types: `int32`, `int64`.\n",
      "        int32, 0 <= dimension < rank(input).  Describes which dimension\n",
      "        of the input Tensor to reduce across. For vectors, use dimension = 0.\n",
      "      name: A name for the operation (optional).\n",
      "    \n",
      "    Returns:\n",
      "      A `Tensor` of type `int64`.\n",
      "\n"
     ]
    }
   ],
   "source": [
    "help(tf.arg_max)"
   ]
  },
  {
   "cell_type": "code",
   "execution_count": 32,
   "metadata": {
    "scrolled": true
   },
   "outputs": [
    {
     "name": "stdout",
     "output_type": "stream",
     "text": [
      "0 0.7278\n",
      "1 0.8012\n",
      "2 0.8286\n",
      "3 0.8445\n",
      "4 0.8554\n",
      "5 0.8641\n",
      "6 0.8706\n",
      "7 0.8751\n",
      "8 0.8795\n",
      "9 0.8829\n",
      "10 0.8853\n",
      "11 0.8878\n",
      "12 0.8905\n",
      "13 0.8931\n",
      "14 0.895\n",
      "15 0.8961\n",
      "16 0.8971\n",
      "17 0.8986\n",
      "18 0.8996\n",
      "19 0.9013\n",
      "20 0.9021\n",
      "21 0.903\n",
      "22 0.904\n",
      "23 0.9051\n",
      "24 0.9062\n",
      "25 0.9072\n",
      "26 0.9084\n",
      "27 0.9093\n",
      "28 0.9104\n",
      "29 0.9112\n",
      "30 0.9119\n",
      "31 0.9125\n",
      "32 0.913\n",
      "33 0.9138\n",
      "34 0.9142\n",
      "35 0.9147\n",
      "36 0.9153\n",
      "37 0.9156\n",
      "38 0.9164\n",
      "39 0.9169\n",
      "40 0.9171\n",
      "41 0.9177\n",
      "42 0.918\n",
      "43 0.9185\n",
      "44 0.919\n",
      "45 0.9193\n",
      "46 0.9197\n",
      "47 0.9198\n",
      "48 0.9201\n",
      "49 0.9201\n",
      "50 0.9204\n",
      "51 0.9202\n",
      "52 0.92\n",
      "53 0.9202\n",
      "54 0.9205\n",
      "55 0.9208\n",
      "56 0.9212\n",
      "57 0.922\n",
      "58 0.9222\n",
      "59 0.9221\n",
      "60 0.9222\n",
      "61 0.9223\n",
      "62 0.9228\n",
      "63 0.923\n",
      "64 0.9236\n",
      "65 0.9236\n",
      "66 0.9237\n",
      "67 0.9239\n",
      "68 0.9241\n",
      "69 0.9243\n",
      "70 0.9242\n",
      "71 0.9244\n",
      "72 0.9246\n",
      "73 0.9249\n",
      "74 0.9248\n",
      "75 0.9249\n",
      "76 0.9252\n",
      "77 0.9256\n",
      "78 0.9258\n",
      "79 0.9258\n",
      "80 0.9259\n",
      "81 0.9262\n",
      "82 0.9263\n",
      "83 0.9265\n",
      "84 0.927\n",
      "85 0.9276\n",
      "86 0.9281\n",
      "87 0.9285\n",
      "88 0.9286\n",
      "89 0.9286\n",
      "90 0.9289\n",
      "91 0.9292\n",
      "92 0.9296\n",
      "93 0.9301\n",
      "94 0.9306\n",
      "95 0.9308\n",
      "96 0.931\n",
      "97 0.9309\n",
      "98 0.9309\n",
      "99 0.9312\n"
     ]
    }
   ],
   "source": [
    "with tf.Session() as sess:\n",
    "    tf.global_variables_initializer().run()\n",
    "    \n",
    "    for i in range(100):\n",
    "        for start, end in zip(range(0, len(trX), 128), range(128, len(trX)+1, 128)):\n",
    "            sess.run(train_op, feed_dict={X: trX[start: end], Y:trY[start: end]})\n",
    "        print (i, np.mean(np.argmax(teY, axis=1) == sess.run(predict_op, feed_dict={X: teX})))"
   ]
  },
  {
   "cell_type": "code",
   "execution_count": null,
   "metadata": {
    "collapsed": true
   },
   "outputs": [],
   "source": []
  }
 ],
 "metadata": {
  "kernelspec": {
   "display_name": "tensorflow",
   "language": "python",
   "name": "tensorflow"
  },
  "language_info": {
   "codemirror_mode": {
    "name": "ipython",
    "version": 3
   },
   "file_extension": ".py",
   "mimetype": "text/x-python",
   "name": "python",
   "nbconvert_exporter": "python",
   "pygments_lexer": "ipython3",
   "version": "3.5.3"
  }
 },
 "nbformat": 4,
 "nbformat_minor": 1
}
